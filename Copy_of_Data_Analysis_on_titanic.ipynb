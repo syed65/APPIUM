{
  "nbformat": 4,
  "nbformat_minor": 0,
  "metadata": {
    "colab": {
      "name": "Copy of Data_Analysis_on_titanic.ipynb",
      "provenance": [],
      "collapsed_sections": [
        "b-VwUm_v6U6i",
        "Bty1j6Ru2qss",
        "JgbLxmNQkmYg",
        "IJH8acnc5ar7",
        "b0Oh_lr42mu8",
        "BPAgnacEyMAE",
        "ymBjePZRHikM",
        "O7Etu7yvfWA7",
        "uduhetxo_6fs",
        "PutkAmcS2YIR",
        "0-yl1I4d2sid",
        "e7xacwcf4Rg-",
        "ZocypsA16w_I",
        "6i6XQYZoTDSN",
        "3CGaniIhV17a",
        "oo4gQadJBgkg"
      ],
      "authorship_tag": "ABX9TyOD8QMP22ORDjnoV3MBBJiA",
      "include_colab_link": true
    },
    "kernelspec": {
      "name": "python3",
      "display_name": "Python 3"
    }
  },
  "cells": [
    {
      "cell_type": "markdown",
      "metadata": {
        "id": "view-in-github",
        "colab_type": "text"
      },
      "source": [
        "<a href=\"https://colab.research.google.com/github/syed65/APPIUM/blob/master/Copy_of_Data_Analysis_on_titanic.ipynb\" target=\"_parent\"><img src=\"https://colab.research.google.com/assets/colab-badge.svg\" alt=\"Open In Colab\"/></a>"
      ]
    },
    {
      "cell_type": "markdown",
      "metadata": {
        "id": "A7mExQEEKpMP"
      },
      "source": [
        "# Introduction\r\n",
        "The sinking of the Titanic is one of the most tragic incidents in the history of shipwrecks. On April 15, 1912, during her maiden voyage, the widely considered “unsinkable” RMS Titanic sank after colliding with an iceberg. Unfortunately, due to paucity of life saving equipment in the ship, and faulty evacuation plan, which resulted with the death of 1502 out of 2224 passengers and crew on board in the chill cold water of the North Atlantic Ocean. This tragic incident still haunts people to ponder, what actually went wrong to causes such a great casualty? What lesson do we extract out of this incident where we could have avoided such a huge casualty?\r\n",
        "While there was some element of luck involved in surviving, it seems some groups of people were more likely to survive than others. In my hypothetical analysis I will try to address the most influential factors which caused to survive many passengers against the passengers didn’t survive. and what measures could have been saved more life of passengers on board, with the help of a predictive model. For this analysis, I would be using python packages like pandas, seaborn and NumPy and google colab notebooks as an editor.\r\n"
      ]
    },
    {
      "cell_type": "markdown",
      "metadata": {
        "id": "b-VwUm_v6U6i"
      },
      "source": [
        "# The Analysis Details"
      ]
    },
    {
      "cell_type": "markdown",
      "metadata": {
        "id": "ioRCW2Z2MiLH"
      },
      "source": [
        "## This Hypothetical analysis would follow the following sequences:\r\n",
        "•\tData cleaning\r\n",
        "\r\n",
        "•\tData exploration\r\n",
        "\r\n",
        "•\tFeature Engineering\r\n",
        "\r\n",
        "•\tData preprocessing for model\r\n",
        "\r\n",
        "•\tBasic model building\r\n",
        "\r\n",
        "•\tModel tuning\r\n",
        "\r\n",
        "•\tResult\r\n"
      ]
    },
    {
      "cell_type": "markdown",
      "metadata": {
        "id": "m_T8hrTKkHEZ"
      },
      "source": [
        "## Data source\r\n",
        "https://kaggle.com\r\n",
        "\r\n",
        "Data : \r\n",
        "titanic.csv\r\n",
        "\r\n",
        "url: https://drive.google.com/file/d/1bTgZhycvIXTDBgFaIZUfmQmdZGeQij69/view?usp=sharing"
      ]
    },
    {
      "cell_type": "markdown",
      "metadata": {
        "id": "Eq4A2AxijLEr"
      },
      "source": [
        "## Variable Description\r\n",
        "\r\n",
        "\r\n",
        "PassengerId: Unique id number to each passenger\r\n",
        "\r\n",
        "Survived: Passenger survived(1) or died(0)\r\n",
        "\r\n",
        "Pclass: Passenger class\r\n",
        "\r\n",
        "Name: Name of passengers on board\r\n",
        "\r\n",
        "Sex: Gender of passenger\r\n",
        "\r\n",
        "Age: Age of passenger\r\n",
        "\r\n",
        "SibSp: Number of siblings/spouses\r\n",
        "\r\n",
        "Parch: Number of parents/children\r\n",
        "\r\n",
        "Ticket: Ticket number\r\n",
        "\r\n",
        "Fare: Amount of money spent on ticket\r\n",
        "\r\n",
        "Cabin: Cabin category\r\n",
        "\r\n",
        "Embarked: Port where passenger embarked (C = Cherbourg, Q = Queenstown, S = Southampton)"
      ]
    },
    {
      "cell_type": "markdown",
      "metadata": {
        "id": "97qRSKHULdkJ"
      },
      "source": [
        "# The Takeaway\r\n",
        "In this analysis, I will try to answer the following question:\r\n",
        "\r\n",
        "*   Who all were among the most vulnarable goruops?\r\n",
        "*   What sort of people are more likely to survive in the accident?\r\n",
        "*   What co-relations does exist between different variables like age, gender, socio-economic class etc with Survived variable.\r\n",
        "*   Were there any significant differences between independent factors with the dependen variables? These would lead us to an alternative hypothesis that, which categorical variable were most influential for suviving factors?\r\n",
        "*   This will be done by conducting Ttest between the independent veriables and dependent variable\r\n",
        "\r\n",
        "\r\n",
        "\r\n"
      ]
    },
    {
      "cell_type": "markdown",
      "metadata": {
        "id": "Qn83lfhDSnQe"
      },
      "source": [
        "# The Target Audiences\r\n",
        "\r\n",
        "This analysis could be beneficial for any kind of audience who all are interested to do research on Titanic incident. Additionally, it could be useful for the Thinkful faculty members, Kaggle competitors etc.\r\n"
      ]
    },
    {
      "cell_type": "markdown",
      "metadata": {
        "id": "Bty1j6Ru2qss"
      },
      "source": [
        "# Importing required Libraries"
      ]
    },
    {
      "cell_type": "code",
      "metadata": {
        "colab": {
          "base_uri": "https://localhost:8080/"
        },
        "id": "hoC0M6lqkTuU",
        "outputId": "8e19abce-e96a-45b0-921c-db74894feb42"
      },
      "source": [
        "#import required libraries\r\n",
        "import pandas as pd\r\n",
        "import numpy as np\r\n",
        "import matplotlib.pyplot as plt\r\n",
        "import seaborn as sns\r\n",
        "%matplotlib inline\r\n",
        "from google.colab import drive\r\n",
        "drive.mount('/content/gdrive')"
      ],
      "execution_count": 5,
      "outputs": [
        {
          "output_type": "stream",
          "text": [
            "Drive already mounted at /content/gdrive; to attempt to forcibly remount, call drive.mount(\"/content/gdrive\", force_remount=True).\n"
          ],
          "name": "stdout"
        }
      ]
    },
    {
      "cell_type": "markdown",
      "metadata": {
        "id": "JgbLxmNQkmYg"
      },
      "source": [
        "# Loading the Data Frame and Data Preparation"
      ]
    },
    {
      "cell_type": "code",
      "metadata": {
        "id": "PSbfCGpFmAVk"
      },
      "source": [
        "#Load the DF\r\n",
        "titanic_df=pd.read_csv('/content/gdrive/My Drive/python_data_anlytics/colabDatasets/titanic.csv')"
      ],
      "execution_count": 6,
      "outputs": []
    },
    {
      "cell_type": "code",
      "metadata": {
        "id": "uKwJM2YhmJlJ",
        "colab": {
          "base_uri": "https://localhost:8080/"
        },
        "outputId": "e463f06d-ac82-47d4-c94a-e22707115e66"
      },
      "source": [
        "# Get the counts of rows and column\r\n",
        "titanic_df.shape"
      ],
      "execution_count": 7,
      "outputs": [
        {
          "output_type": "execute_result",
          "data": {
            "text/plain": [
              "(891, 16)"
            ]
          },
          "metadata": {
            "tags": []
          },
          "execution_count": 7
        }
      ]
    },
    {
      "cell_type": "code",
      "metadata": {
        "id": "BZ7x4KBhmMZ7",
        "colab": {
          "base_uri": "https://localhost:8080/"
        },
        "outputId": "e730a7e9-2a8f-47ec-c0d5-f36680f1f6da"
      },
      "source": [
        "# Get general information about the data frame loaded\r\n",
        "titanic_df.info()"
      ],
      "execution_count": 8,
      "outputs": [
        {
          "output_type": "stream",
          "text": [
            "<class 'pandas.core.frame.DataFrame'>\n",
            "RangeIndex: 891 entries, 0 to 890\n",
            "Data columns (total 16 columns):\n",
            " #   Column            Non-Null Count  Dtype  \n",
            "---  ------            --------------  -----  \n",
            " 0   PassengerId       891 non-null    int64  \n",
            " 1   Survived          891 non-null    int64  \n",
            " 2   Pclass            891 non-null    int64  \n",
            " 3   Name              891 non-null    object \n",
            " 4   Sex               891 non-null    object \n",
            " 5   Age               714 non-null    float64\n",
            " 6   SibSp             891 non-null    int64  \n",
            " 7   Parch             891 non-null    int64  \n",
            " 8   Ticket            891 non-null    object \n",
            " 9   Fare              891 non-null    float64\n",
            " 10  Cabin             204 non-null    object \n",
            " 11  Embarked          889 non-null    object \n",
            " 12  Young_age_ Gorup  891 non-null    int64  \n",
            " 13  Old_age_group     891 non-null    int64  \n",
            " 14  Male              891 non-null    int64  \n",
            " 15  Female            891 non-null    int64  \n",
            "dtypes: float64(2), int64(9), object(5)\n",
            "memory usage: 111.5+ KB\n"
          ],
          "name": "stdout"
        }
      ]
    },
    {
      "cell_type": "markdown",
      "metadata": {
        "id": "Q5PMDW-gzXxo"
      },
      "source": [
        "From the above information we get the following:\r\n",
        "1. There are 891 records(including headers) 16 columns in the detaset.\r\n",
        "2. There are categorical variavles with 3 non-numeric and 13 numeric datatype.\r\n",
        "3. For our hypothetical analysis we would consider \"Survival\" as our dependent variable and relate in our hypothesis."
      ]
    },
    {
      "cell_type": "markdown",
      "metadata": {
        "id": "IJH8acnc5ar7"
      },
      "source": [
        "## Checking for Null values"
      ]
    },
    {
      "cell_type": "code",
      "metadata": {
        "id": "tKUC0rmXmjWs",
        "colab": {
          "base_uri": "https://localhost:8080/"
        },
        "outputId": "facd7dd4-a0ae-43b5-98cf-3f91902d2853"
      },
      "source": [
        "# Counting the null values in the column\r\n",
        "titanic_df.isnull().sum()"
      ],
      "execution_count": 9,
      "outputs": [
        {
          "output_type": "execute_result",
          "data": {
            "text/plain": [
              "PassengerId           0\n",
              "Survived              0\n",
              "Pclass                0\n",
              "Name                  0\n",
              "Sex                   0\n",
              "Age                 177\n",
              "SibSp                 0\n",
              "Parch                 0\n",
              "Ticket                0\n",
              "Fare                  0\n",
              "Cabin               687\n",
              "Embarked              2\n",
              "Young_age_ Gorup      0\n",
              "Old_age_group         0\n",
              "Male                  0\n",
              "Female                0\n",
              "dtype: int64"
            ]
          },
          "metadata": {
            "tags": []
          },
          "execution_count": 9
        }
      ]
    },
    {
      "cell_type": "markdown",
      "metadata": {
        "id": "MzokPNHCnDqq"
      },
      "source": [
        "There are 177 nulls in Age column, 687 nulls in Cabin column and 2 null in Embarked column. I would prefer to keep those as it is for now. In the process of developing my model if I need to clean or deal with the null I would do then. "
      ]
    },
    {
      "cell_type": "markdown",
      "metadata": {
        "id": "b0Oh_lr42mu8"
      },
      "source": [
        "# Descriptive Statistics"
      ]
    },
    {
      "cell_type": "code",
      "metadata": {
        "id": "ASZpC0XIm5TD",
        "colab": {
          "base_uri": "https://localhost:8080/",
          "height": 288
        },
        "outputId": "4cf17ffd-c96c-4963-965c-794c6f5578f1"
      },
      "source": [
        "titanic_df.describe()"
      ],
      "execution_count": 10,
      "outputs": [
        {
          "output_type": "execute_result",
          "data": {
            "text/html": [
              "<div>\n",
              "<style scoped>\n",
              "    .dataframe tbody tr th:only-of-type {\n",
              "        vertical-align: middle;\n",
              "    }\n",
              "\n",
              "    .dataframe tbody tr th {\n",
              "        vertical-align: top;\n",
              "    }\n",
              "\n",
              "    .dataframe thead th {\n",
              "        text-align: right;\n",
              "    }\n",
              "</style>\n",
              "<table border=\"1\" class=\"dataframe\">\n",
              "  <thead>\n",
              "    <tr style=\"text-align: right;\">\n",
              "      <th></th>\n",
              "      <th>PassengerId</th>\n",
              "      <th>Survived</th>\n",
              "      <th>Pclass</th>\n",
              "      <th>Age</th>\n",
              "      <th>SibSp</th>\n",
              "      <th>Parch</th>\n",
              "      <th>Fare</th>\n",
              "      <th>Young_age_ Gorup</th>\n",
              "      <th>Old_age_group</th>\n",
              "      <th>Male</th>\n",
              "      <th>Female</th>\n",
              "    </tr>\n",
              "  </thead>\n",
              "  <tbody>\n",
              "    <tr>\n",
              "      <th>count</th>\n",
              "      <td>891.000000</td>\n",
              "      <td>891.000000</td>\n",
              "      <td>891.000000</td>\n",
              "      <td>714.000000</td>\n",
              "      <td>891.000000</td>\n",
              "      <td>891.000000</td>\n",
              "      <td>891.000000</td>\n",
              "      <td>891.000000</td>\n",
              "      <td>891.000000</td>\n",
              "      <td>891.000000</td>\n",
              "      <td>891.000000</td>\n",
              "    </tr>\n",
              "    <tr>\n",
              "      <th>mean</th>\n",
              "      <td>446.000000</td>\n",
              "      <td>0.383838</td>\n",
              "      <td>2.308642</td>\n",
              "      <td>29.699118</td>\n",
              "      <td>0.523008</td>\n",
              "      <td>0.381594</td>\n",
              "      <td>32.204208</td>\n",
              "      <td>0.817059</td>\n",
              "      <td>0.182941</td>\n",
              "      <td>0.647587</td>\n",
              "      <td>0.352413</td>\n",
              "    </tr>\n",
              "    <tr>\n",
              "      <th>std</th>\n",
              "      <td>257.353842</td>\n",
              "      <td>0.486592</td>\n",
              "      <td>0.836071</td>\n",
              "      <td>14.526497</td>\n",
              "      <td>1.102743</td>\n",
              "      <td>0.806057</td>\n",
              "      <td>49.693429</td>\n",
              "      <td>0.386835</td>\n",
              "      <td>0.386835</td>\n",
              "      <td>0.477990</td>\n",
              "      <td>0.477990</td>\n",
              "    </tr>\n",
              "    <tr>\n",
              "      <th>min</th>\n",
              "      <td>1.000000</td>\n",
              "      <td>0.000000</td>\n",
              "      <td>1.000000</td>\n",
              "      <td>0.420000</td>\n",
              "      <td>0.000000</td>\n",
              "      <td>0.000000</td>\n",
              "      <td>0.000000</td>\n",
              "      <td>0.000000</td>\n",
              "      <td>0.000000</td>\n",
              "      <td>0.000000</td>\n",
              "      <td>0.000000</td>\n",
              "    </tr>\n",
              "    <tr>\n",
              "      <th>25%</th>\n",
              "      <td>223.500000</td>\n",
              "      <td>0.000000</td>\n",
              "      <td>2.000000</td>\n",
              "      <td>20.125000</td>\n",
              "      <td>0.000000</td>\n",
              "      <td>0.000000</td>\n",
              "      <td>7.910400</td>\n",
              "      <td>1.000000</td>\n",
              "      <td>0.000000</td>\n",
              "      <td>0.000000</td>\n",
              "      <td>0.000000</td>\n",
              "    </tr>\n",
              "    <tr>\n",
              "      <th>50%</th>\n",
              "      <td>446.000000</td>\n",
              "      <td>0.000000</td>\n",
              "      <td>3.000000</td>\n",
              "      <td>28.000000</td>\n",
              "      <td>0.000000</td>\n",
              "      <td>0.000000</td>\n",
              "      <td>14.454200</td>\n",
              "      <td>1.000000</td>\n",
              "      <td>0.000000</td>\n",
              "      <td>1.000000</td>\n",
              "      <td>0.000000</td>\n",
              "    </tr>\n",
              "    <tr>\n",
              "      <th>75%</th>\n",
              "      <td>668.500000</td>\n",
              "      <td>1.000000</td>\n",
              "      <td>3.000000</td>\n",
              "      <td>38.000000</td>\n",
              "      <td>1.000000</td>\n",
              "      <td>0.000000</td>\n",
              "      <td>31.000000</td>\n",
              "      <td>1.000000</td>\n",
              "      <td>0.000000</td>\n",
              "      <td>1.000000</td>\n",
              "      <td>1.000000</td>\n",
              "    </tr>\n",
              "    <tr>\n",
              "      <th>max</th>\n",
              "      <td>891.000000</td>\n",
              "      <td>1.000000</td>\n",
              "      <td>3.000000</td>\n",
              "      <td>80.000000</td>\n",
              "      <td>8.000000</td>\n",
              "      <td>6.000000</td>\n",
              "      <td>512.329200</td>\n",
              "      <td>1.000000</td>\n",
              "      <td>1.000000</td>\n",
              "      <td>1.000000</td>\n",
              "      <td>1.000000</td>\n",
              "    </tr>\n",
              "  </tbody>\n",
              "</table>\n",
              "</div>"
            ],
            "text/plain": [
              "       PassengerId    Survived  ...        Male      Female\n",
              "count   891.000000  891.000000  ...  891.000000  891.000000\n",
              "mean    446.000000    0.383838  ...    0.647587    0.352413\n",
              "std     257.353842    0.486592  ...    0.477990    0.477990\n",
              "min       1.000000    0.000000  ...    0.000000    0.000000\n",
              "25%     223.500000    0.000000  ...    0.000000    0.000000\n",
              "50%     446.000000    0.000000  ...    1.000000    0.000000\n",
              "75%     668.500000    1.000000  ...    1.000000    1.000000\n",
              "max     891.000000    1.000000  ...    1.000000    1.000000\n",
              "\n",
              "[8 rows x 11 columns]"
            ]
          },
          "metadata": {
            "tags": []
          },
          "execution_count": 10
        }
      ]
    },
    {
      "cell_type": "markdown",
      "metadata": {
        "id": "ALswwkd8oMLw"
      },
      "source": [
        "From the above metrics following information can be derived:\r\n",
        "1. This sample data set only represents 891 passengers out of 2224 passengers actually on board. As we know total 1502 passengers died which bring to 68% of casualty. In our sample data casualty is 62% which is close enough to the original casualty.\r\n",
        "2. Some of the statistical analysis would help us to develop the model; like, out of 891 people the average survival rate was 38%,average 52% passengers had siblings, average 38% passengers had children.\r\n",
        "3. The age range of the passengers between 5 month to 80 years. 81% of passengers were young(age betwee 0 to 40 years) and 18% passengers age were above 40 years. \r\n",
        "4. There were som unusual pattern of the ticket price as it didn't have a fixed set of price range for each class. Even the cabin price was not consistant. Some passengers fare was 0.\r\n",
        "5. There are some null values in the data set, which needs to be addressed. \r\n",
        "5. These initial information would give us an edge to deep dive into the analysis.\r\n"
      ]
    },
    {
      "cell_type": "markdown",
      "metadata": {
        "id": "BPAgnacEyMAE"
      },
      "source": [
        "# The Correlation between different features with heatmap"
      ]
    },
    {
      "cell_type": "code",
      "metadata": {
        "id": "utAOuWzjBGVx",
        "colab": {
          "base_uri": "https://localhost:8080/",
          "height": 198
        },
        "outputId": "8093a911-0de6-4fc5-bfc3-63de6dcd0f85"
      },
      "source": [
        "#Creating Data Frame with numeric column\r\n",
        "numeric_df=titanic_df.select_dtypes(include='number').head()\r\n",
        "numeric_df"
      ],
      "execution_count": 11,
      "outputs": [
        {
          "output_type": "execute_result",
          "data": {
            "text/html": [
              "<div>\n",
              "<style scoped>\n",
              "    .dataframe tbody tr th:only-of-type {\n",
              "        vertical-align: middle;\n",
              "    }\n",
              "\n",
              "    .dataframe tbody tr th {\n",
              "        vertical-align: top;\n",
              "    }\n",
              "\n",
              "    .dataframe thead th {\n",
              "        text-align: right;\n",
              "    }\n",
              "</style>\n",
              "<table border=\"1\" class=\"dataframe\">\n",
              "  <thead>\n",
              "    <tr style=\"text-align: right;\">\n",
              "      <th></th>\n",
              "      <th>PassengerId</th>\n",
              "      <th>Survived</th>\n",
              "      <th>Pclass</th>\n",
              "      <th>Age</th>\n",
              "      <th>SibSp</th>\n",
              "      <th>Parch</th>\n",
              "      <th>Fare</th>\n",
              "      <th>Young_age_ Gorup</th>\n",
              "      <th>Old_age_group</th>\n",
              "      <th>Male</th>\n",
              "      <th>Female</th>\n",
              "    </tr>\n",
              "  </thead>\n",
              "  <tbody>\n",
              "    <tr>\n",
              "      <th>0</th>\n",
              "      <td>1</td>\n",
              "      <td>0</td>\n",
              "      <td>3</td>\n",
              "      <td>22.0</td>\n",
              "      <td>1</td>\n",
              "      <td>0</td>\n",
              "      <td>7.2500</td>\n",
              "      <td>1</td>\n",
              "      <td>0</td>\n",
              "      <td>1</td>\n",
              "      <td>0</td>\n",
              "    </tr>\n",
              "    <tr>\n",
              "      <th>1</th>\n",
              "      <td>2</td>\n",
              "      <td>1</td>\n",
              "      <td>1</td>\n",
              "      <td>38.0</td>\n",
              "      <td>1</td>\n",
              "      <td>0</td>\n",
              "      <td>71.2833</td>\n",
              "      <td>1</td>\n",
              "      <td>0</td>\n",
              "      <td>0</td>\n",
              "      <td>1</td>\n",
              "    </tr>\n",
              "    <tr>\n",
              "      <th>2</th>\n",
              "      <td>3</td>\n",
              "      <td>1</td>\n",
              "      <td>3</td>\n",
              "      <td>26.0</td>\n",
              "      <td>0</td>\n",
              "      <td>0</td>\n",
              "      <td>7.9250</td>\n",
              "      <td>1</td>\n",
              "      <td>0</td>\n",
              "      <td>0</td>\n",
              "      <td>1</td>\n",
              "    </tr>\n",
              "    <tr>\n",
              "      <th>3</th>\n",
              "      <td>4</td>\n",
              "      <td>1</td>\n",
              "      <td>1</td>\n",
              "      <td>35.0</td>\n",
              "      <td>1</td>\n",
              "      <td>0</td>\n",
              "      <td>53.1000</td>\n",
              "      <td>1</td>\n",
              "      <td>0</td>\n",
              "      <td>0</td>\n",
              "      <td>1</td>\n",
              "    </tr>\n",
              "    <tr>\n",
              "      <th>4</th>\n",
              "      <td>5</td>\n",
              "      <td>0</td>\n",
              "      <td>3</td>\n",
              "      <td>35.0</td>\n",
              "      <td>0</td>\n",
              "      <td>0</td>\n",
              "      <td>8.0500</td>\n",
              "      <td>1</td>\n",
              "      <td>0</td>\n",
              "      <td>1</td>\n",
              "      <td>0</td>\n",
              "    </tr>\n",
              "  </tbody>\n",
              "</table>\n",
              "</div>"
            ],
            "text/plain": [
              "   PassengerId  Survived  Pclass  ...  Old_age_group  Male  Female\n",
              "0            1         0       3  ...              0     1       0\n",
              "1            2         1       1  ...              0     0       1\n",
              "2            3         1       3  ...              0     0       1\n",
              "3            4         1       1  ...              0     0       1\n",
              "4            5         0       3  ...              0     1       0\n",
              "\n",
              "[5 rows x 11 columns]"
            ]
          },
          "metadata": {
            "tags": []
          },
          "execution_count": 11
        }
      ]
    },
    {
      "cell_type": "code",
      "metadata": {
        "id": "tNYMhkVCIZV0"
      },
      "source": [
        "# Dropping the columns \r\n",
        "numeric_df=numeric_df.drop(['Young_age_ Gorup','Parch','Old_age_group'],axis=1)"
      ],
      "execution_count": 12,
      "outputs": []
    },
    {
      "cell_type": "code",
      "metadata": {
        "id": "OFfhYH9ZnPys",
        "colab": {
          "base_uri": "https://localhost:8080/",
          "height": 347
        },
        "outputId": "c5ffb720-4c88-4392-d019-6ea9567f769f"
      },
      "source": [
        "# Observe the correlation beween the numeric variables with heatmap\r\n",
        "sns.set()\r\n",
        "sns.heatmap(numeric_df.corr())"
      ],
      "execution_count": 44,
      "outputs": [
        {
          "output_type": "execute_result",
          "data": {
            "text/plain": [
              "<matplotlib.axes._subplots.AxesSubplot at 0x7fb30427ada0>"
            ]
          },
          "metadata": {
            "tags": []
          },
          "execution_count": 44
        },
        {
          "output_type": "display_data",
          "data": {
            "image/png": "[encoded data removed]",
            "text/plain": [
              "<Figure size 432x288 with 2 Axes>"
            ]
          },
          "metadata": {
            "tags": []
          }
        }
      ]
    },
    {
      "cell_type": "markdown",
      "metadata": {
        "id": "a3IauMLfyrAt"
      },
      "source": [
        "## From the above correlation between the variables,the findings are as follows:\r\n",
        "1. There are significant positive correlation observed between Female and Survived variables. Which gives us an idea that women survival chances were greater in numbers than men. \r\n",
        "2. Conversely, Male has a negative correlation with survived, means chances of male survival was lesser in number than women.\r\n",
        "3.  Passengers of Pclass are significantly vulnarable too. There is a significant negative correlation exist between these two variables.\r\n",
        "5. The Fare has a significan positive correlation with Survived. Which indicates, passengers with high priced ticket had better chance to survive. This gives an idea that those who all were on low priced deck or cabin had a bigger numbers of casualty.\r\n",
        "6. This metrics has given us some idea that which categories of passengers were most likely to be survived and who were not. However, the more we deep dive into the analysis we would be able to unearth more interesting facts."
      ]
    },
    {
      "cell_type": "markdown",
      "metadata": {
        "id": "ymBjePZRHikM"
      },
      "source": [
        "# Exploratory Data Analysis\r\n",
        "###  Survived and Not Suvived\r\n",
        "\r\n",
        "Note: In the following metrics 0 means didn't survive and 1 means survived\r\n"
      ]
    },
    {
      "cell_type": "code",
      "metadata": {
        "id": "k95d0gYDn_EU",
        "colab": {
          "base_uri": "https://localhost:8080/"
        },
        "outputId": "dfaf82e9-aef7-412c-95b9-8a35984346ab"
      },
      "source": [
        "# Get the percentage of the survivors\r\n",
        "titanic_df.Survived.value_counts([0],[1])"
      ],
      "execution_count": 14,
      "outputs": [
        {
          "output_type": "execute_result",
          "data": {
            "text/plain": [
              "0    0.616162\n",
              "1    0.383838\n",
              "Name: Survived, dtype: float64"
            ]
          },
          "metadata": {
            "tags": []
          },
          "execution_count": 14
        }
      ]
    },
    {
      "cell_type": "markdown",
      "metadata": {
        "id": "3A_Mve2CJw-2"
      },
      "source": [
        "Only 38% passengers survived and\r\n",
        "62% passengers did not survived !"
      ]
    },
    {
      "cell_type": "code",
      "metadata": {
        "id": "i5cguxrU3mSv",
        "colab": {
          "base_uri": "https://localhost:8080/",
          "height": 359
        },
        "outputId": "4d38cc75-9791-4bdc-acd4-20e4f1d866bd"
      },
      "source": [
        "# Visualization of the Survived colum\r\n",
        "sns.set()\r\n",
        "sns.countplot(titanic_df['Survived'])"
      ],
      "execution_count": 15,
      "outputs": [
        {
          "output_type": "stream",
          "text": [
            "/usr/local/lib/python3.6/dist-packages/seaborn/_decorators.py:43: FutureWarning: Pass the following variable as a keyword arg: x. From version 0.12, the only valid positional argument will be `data`, and passing other arguments without an explicit keyword will result in an error or misinterpretation.\n",
            "  FutureWarning\n"
          ],
          "name": "stderr"
        },
        {
          "output_type": "execute_result",
          "data": {
            "text/plain": [
              "<matplotlib.axes._subplots.AxesSubplot at 0x7fb3059d82b0>"
            ]
          },
          "metadata": {
            "tags": []
          },
          "execution_count": 15
        },
        {
          "output_type": "display_data",
          "data": {
            "image/png": "[encoded data removed]",
            "text/plain": [
              "<Figure size 432x288 with 1 Axes>"
            ]
          },
          "metadata": {
            "tags": []
          }
        }
      ]
    },
    {
      "cell_type": "markdown",
      "metadata": {
        "id": "O7Etu7yvfWA7"
      },
      "source": [
        "# Some Feature engineering on categorical Variables\r\n",
        "### Creating New DataFrame with categorical Columns"
      ]
    },
    {
      "cell_type": "code",
      "metadata": {
        "id": "Ugsc7esefbZX",
        "colab": {
          "base_uri": "https://localhost:8080/",
          "height": 198
        },
        "outputId": "6d320f67-f548-4bb5-8e6b-48b3e7b77a4f"
      },
      "source": [
        "# Selecting the  categorical object variables\r\n",
        "cat_df=titanic_df.select_dtypes(include='object')\r\n",
        "cat_df.head()"
      ],
      "execution_count": 16,
      "outputs": [
        {
          "output_type": "execute_result",
          "data": {
            "text/html": [
              "<div>\n",
              "<style scoped>\n",
              "    .dataframe tbody tr th:only-of-type {\n",
              "        vertical-align: middle;\n",
              "    }\n",
              "\n",
              "    .dataframe tbody tr th {\n",
              "        vertical-align: top;\n",
              "    }\n",
              "\n",
              "    .dataframe thead th {\n",
              "        text-align: right;\n",
              "    }\n",
              "</style>\n",
              "<table border=\"1\" class=\"dataframe\">\n",
              "  <thead>\n",
              "    <tr style=\"text-align: right;\">\n",
              "      <th></th>\n",
              "      <th>Name</th>\n",
              "      <th>Sex</th>\n",
              "      <th>Ticket</th>\n",
              "      <th>Cabin</th>\n",
              "      <th>Embarked</th>\n",
              "    </tr>\n",
              "  </thead>\n",
              "  <tbody>\n",
              "    <tr>\n",
              "      <th>0</th>\n",
              "      <td>Braund, Mr. Owen Harris</td>\n",
              "      <td>male</td>\n",
              "      <td>A/5 21171</td>\n",
              "      <td>NaN</td>\n",
              "      <td>S</td>\n",
              "    </tr>\n",
              "    <tr>\n",
              "      <th>1</th>\n",
              "      <td>Cumings, Mrs. John Bradley (Florence Briggs Th...</td>\n",
              "      <td>female</td>\n",
              "      <td>PC 17599</td>\n",
              "      <td>C85</td>\n",
              "      <td>C</td>\n",
              "    </tr>\n",
              "    <tr>\n",
              "      <th>2</th>\n",
              "      <td>Heikkinen, Miss. Laina</td>\n",
              "      <td>female</td>\n",
              "      <td>STON/O2. 3101282</td>\n",
              "      <td>NaN</td>\n",
              "      <td>S</td>\n",
              "    </tr>\n",
              "    <tr>\n",
              "      <th>3</th>\n",
              "      <td>Futrelle, Mrs. Jacques Heath (Lily May Peel)</td>\n",
              "      <td>female</td>\n",
              "      <td>113803</td>\n",
              "      <td>C123</td>\n",
              "      <td>S</td>\n",
              "    </tr>\n",
              "    <tr>\n",
              "      <th>4</th>\n",
              "      <td>Allen, Mr. William Henry</td>\n",
              "      <td>male</td>\n",
              "      <td>373450</td>\n",
              "      <td>NaN</td>\n",
              "      <td>S</td>\n",
              "    </tr>\n",
              "  </tbody>\n",
              "</table>\n",
              "</div>"
            ],
            "text/plain": [
              "                                                Name     Sex  ... Cabin Embarked\n",
              "0                            Braund, Mr. Owen Harris    male  ...   NaN        S\n",
              "1  Cumings, Mrs. John Bradley (Florence Briggs Th...  female  ...   C85        C\n",
              "2                             Heikkinen, Miss. Laina  female  ...   NaN        S\n",
              "3       Futrelle, Mrs. Jacques Heath (Lily May Peel)  female  ...  C123        S\n",
              "4                           Allen, Mr. William Henry    male  ...   NaN        S\n",
              "\n",
              "[5 rows x 5 columns]"
            ]
          },
          "metadata": {
            "tags": []
          },
          "execution_count": 16
        }
      ]
    },
    {
      "cell_type": "markdown",
      "metadata": {
        "id": "uduhetxo_6fs"
      },
      "source": [
        "We can breakdown the name column based on name title"
      ]
    },
    {
      "cell_type": "markdown",
      "metadata": {
        "id": "caQm5lrNzZN_"
      },
      "source": [
        "### Feature Engineering on Name Column"
      ]
    },
    {
      "cell_type": "code",
      "metadata": {
        "id": "hSAlaP6p6VjO"
      },
      "source": [
        "# Feature engineering on person's title\r\n",
        "# Mr. Ms. Master etc\r\n",
        "titanic_df.Name.head(50)\r\n",
        "titanic_df['Name_title']=titanic_df.Name.apply(lambda x: x.split(',')[1].split('.')[0].strip())"
      ],
      "execution_count": 17,
      "outputs": []
    },
    {
      "cell_type": "code",
      "metadata": {
        "id": "Itg56MYFE_zR",
        "colab": {
          "base_uri": "https://localhost:8080/"
        },
        "outputId": "8a665ae6-d22b-4aa0-8ffb-5a3e05800d7b"
      },
      "source": [
        "#aggregate the count of passengers with different name titles\r\n",
        "titanic_df['Name_title'].value_counts()"
      ],
      "execution_count": 18,
      "outputs": [
        {
          "output_type": "execute_result",
          "data": {
            "text/plain": [
              "Mr              517\n",
              "Miss            182\n",
              "Mrs             125\n",
              "Master           40\n",
              "Dr                7\n",
              "Rev               6\n",
              "Col               2\n",
              "Mlle              2\n",
              "Major             2\n",
              "Don               1\n",
              "Mme               1\n",
              "Jonkheer          1\n",
              "the Countess      1\n",
              "Capt              1\n",
              "Sir               1\n",
              "Lady              1\n",
              "Ms                1\n",
              "Name: Name_title, dtype: int64"
            ]
          },
          "metadata": {
            "tags": []
          },
          "execution_count": 18
        }
      ]
    },
    {
      "cell_type": "markdown",
      "metadata": {
        "id": "_PjhGFhdLA9S"
      },
      "source": [
        "As shown in the metrics bellow, out of 517 Mr. 81 survived and 436 did not survived, out of 182 Miss 127 survived and 55 did not survived. Out of 125 Mrs 99 survived 26 did not survived out of 40 master 23 survived and 17 did not survived."
      ]
    },
    {
      "cell_type": "code",
      "metadata": {
        "id": "KPk4bn7PFLpA",
        "colab": {
          "base_uri": "https://localhost:8080/",
          "height": 138
        },
        "outputId": "decdfc53-af53-41c0-ea8e-ec6febd71767"
      },
      "source": [
        "# Look for the survival chances with a pivot table\r\n",
        "pd.pivot_table(titanic_df,index='Survived', columns='Name_title',values='Name',aggfunc='count')"
      ],
      "execution_count": 19,
      "outputs": [
        {
          "output_type": "execute_result",
          "data": {
            "text/html": [
              "<div>\n",
              "<style scoped>\n",
              "    .dataframe tbody tr th:only-of-type {\n",
              "        vertical-align: middle;\n",
              "    }\n",
              "\n",
              "    .dataframe tbody tr th {\n",
              "        vertical-align: top;\n",
              "    }\n",
              "\n",
              "    .dataframe thead th {\n",
              "        text-align: right;\n",
              "    }\n",
              "</style>\n",
              "<table border=\"1\" class=\"dataframe\">\n",
              "  <thead>\n",
              "    <tr style=\"text-align: right;\">\n",
              "      <th>Name_title</th>\n",
              "      <th>Capt</th>\n",
              "      <th>Col</th>\n",
              "      <th>Don</th>\n",
              "      <th>Dr</th>\n",
              "      <th>Jonkheer</th>\n",
              "      <th>Lady</th>\n",
              "      <th>Major</th>\n",
              "      <th>Master</th>\n",
              "      <th>Miss</th>\n",
              "      <th>Mlle</th>\n",
              "      <th>Mme</th>\n",
              "      <th>Mr</th>\n",
              "      <th>Mrs</th>\n",
              "      <th>Ms</th>\n",
              "      <th>Rev</th>\n",
              "      <th>Sir</th>\n",
              "      <th>the Countess</th>\n",
              "    </tr>\n",
              "    <tr>\n",
              "      <th>Survived</th>\n",
              "      <th></th>\n",
              "      <th></th>\n",
              "      <th></th>\n",
              "      <th></th>\n",
              "      <th></th>\n",
              "      <th></th>\n",
              "      <th></th>\n",
              "      <th></th>\n",
              "      <th></th>\n",
              "      <th></th>\n",
              "      <th></th>\n",
              "      <th></th>\n",
              "      <th></th>\n",
              "      <th></th>\n",
              "      <th></th>\n",
              "      <th></th>\n",
              "      <th></th>\n",
              "    </tr>\n",
              "  </thead>\n",
              "  <tbody>\n",
              "    <tr>\n",
              "      <th>0</th>\n",
              "      <td>1.0</td>\n",
              "      <td>1.0</td>\n",
              "      <td>1.0</td>\n",
              "      <td>4.0</td>\n",
              "      <td>1.0</td>\n",
              "      <td>NaN</td>\n",
              "      <td>1.0</td>\n",
              "      <td>17.0</td>\n",
              "      <td>55.0</td>\n",
              "      <td>NaN</td>\n",
              "      <td>NaN</td>\n",
              "      <td>436.0</td>\n",
              "      <td>26.0</td>\n",
              "      <td>NaN</td>\n",
              "      <td>6.0</td>\n",
              "      <td>NaN</td>\n",
              "      <td>NaN</td>\n",
              "    </tr>\n",
              "    <tr>\n",
              "      <th>1</th>\n",
              "      <td>NaN</td>\n",
              "      <td>1.0</td>\n",
              "      <td>NaN</td>\n",
              "      <td>3.0</td>\n",
              "      <td>NaN</td>\n",
              "      <td>1.0</td>\n",
              "      <td>1.0</td>\n",
              "      <td>23.0</td>\n",
              "      <td>127.0</td>\n",
              "      <td>2.0</td>\n",
              "      <td>1.0</td>\n",
              "      <td>81.0</td>\n",
              "      <td>99.0</td>\n",
              "      <td>1.0</td>\n",
              "      <td>NaN</td>\n",
              "      <td>1.0</td>\n",
              "      <td>1.0</td>\n",
              "    </tr>\n",
              "  </tbody>\n",
              "</table>\n",
              "</div>"
            ],
            "text/plain": [
              "Name_title  Capt  Col  Don   Dr  Jonkheer  ...   Mrs   Ms  Rev  Sir  the Countess\n",
              "Survived                                   ...                                   \n",
              "0            1.0  1.0  1.0  4.0       1.0  ...  26.0  NaN  6.0  NaN           NaN\n",
              "1            NaN  1.0  NaN  3.0       NaN  ...  99.0  1.0  NaN  1.0           1.0\n",
              "\n",
              "[2 rows x 17 columns]"
            ]
          },
          "metadata": {
            "tags": []
          },
          "execution_count": 19
        }
      ]
    },
    {
      "cell_type": "markdown",
      "metadata": {
        "id": "rbA7rQuqz0ck"
      },
      "source": [
        "Survival and non suvival stat of Mr, Miss, Mrs, Master etc are given above"
      ]
    },
    {
      "cell_type": "markdown",
      "metadata": {
        "id": "PutkAmcS2YIR"
      },
      "source": [
        "## Male and Female Metrics"
      ]
    },
    {
      "cell_type": "code",
      "metadata": {
        "id": "GDL59Fpddty_",
        "colab": {
          "base_uri": "https://localhost:8080/"
        },
        "outputId": "e3f93d78-1151-4783-8e97-19484e70e6e4"
      },
      "source": [
        "# Survival and non-survival count based on sex\r\n",
        "print(pd.pivot_table(titanic_df,index='Survived', columns='Sex',values='Ticket',aggfunc='count'))"
      ],
      "execution_count": 20,
      "outputs": [
        {
          "output_type": "stream",
          "text": [
            "Sex       female  male\n",
            "Survived              \n",
            "0             81   468\n",
            "1            233   109\n"
          ],
          "name": "stdout"
        }
      ]
    },
    {
      "cell_type": "markdown",
      "metadata": {
        "id": "5cjvxYwbSlWN"
      },
      "source": [
        "Female survival was more than Male survival"
      ]
    },
    {
      "cell_type": "markdown",
      "metadata": {
        "id": "0-yl1I4d2sid"
      },
      "source": [
        "## Survival based on Embarking Places"
      ]
    },
    {
      "cell_type": "code",
      "metadata": {
        "id": "B4ETUGm4f2MH",
        "colab": {
          "base_uri": "https://localhost:8080/"
        },
        "outputId": "5c5eddf3-a150-4d11-e6c6-167383a63260"
      },
      "source": [
        "# Survival and non-survival count based on Embarked\r\n",
        "print(pd.pivot_table(titanic_df,index='Survived', columns='Embarked',values='Ticket',aggfunc='count'))"
      ],
      "execution_count": 21,
      "outputs": [
        {
          "output_type": "stream",
          "text": [
            "Embarked   C   Q    S\n",
            "Survived             \n",
            "0         75  47  427\n",
            "1         93  30  217\n"
          ],
          "name": "stdout"
        }
      ]
    },
    {
      "cell_type": "markdown",
      "metadata": {
        "id": "JFNbbeV1g14R"
      },
      "source": [
        "The survival number varies according to passengers embarking places. Passengers embarked from S which stands for Southampton had major casualty than C and Q stands for Cherbourg and Queenstown respectively."
      ]
    },
    {
      "cell_type": "markdown",
      "metadata": {
        "id": "e7xacwcf4Rg-"
      },
      "source": [
        "## Suvival based on Passengers Class"
      ]
    },
    {
      "cell_type": "markdown",
      "metadata": {
        "id": "TtXKbHMqef8l"
      },
      "source": [
        "In Pclass survival count are shown as per the classes. Here 1 represents First Class, 2 Second and 3 Third Class. As we can see that passengers in 3rd class had more casualties than 2nd and 1st class passengers.\r\n"
      ]
    },
    {
      "cell_type": "code",
      "metadata": {
        "id": "8ViT8S8yIPJY",
        "colab": {
          "base_uri": "https://localhost:8080/"
        },
        "outputId": "c2ce603d-be98-4513-a147-e33963d9f9d7"
      },
      "source": [
        "# Casualties based on Passengers Class (Pclass)\r\n",
        "print(pd.pivot_table(titanic_df,index='Survived', columns='Pclass',values='Ticket',aggfunc='count'))"
      ],
      "execution_count": 22,
      "outputs": [
        {
          "output_type": "stream",
          "text": [
            "Pclass      1   2    3\n",
            "Survived              \n",
            "0          80  97  372\n",
            "1         136  87  119\n"
          ],
          "name": "stdout"
        }
      ]
    },
    {
      "cell_type": "markdown",
      "metadata": {
        "id": "ZocypsA16w_I"
      },
      "source": [
        "## Creating a DataFrame with a new column named \"cabin_adv\", showing the cabin category."
      ]
    },
    {
      "cell_type": "markdown",
      "metadata": {
        "id": "9o_0Bk059bR9"
      },
      "source": [
        "In the Cabin column we could figure out the cabin name starts with different alphabet and blew shown different count of cabin and survival chance according to alphabetical name. n stands for null. Passengers without cabin fall in this category. The mortality rate is evidently higher in this group. So, from here we deduce that the chances of survival was higher if you were a passengers with cabin name starts with D and E."
      ]
    },
    {
      "cell_type": "markdown",
      "metadata": {
        "id": "FvEXPvH__qjj"
      },
      "source": [
        "Visual representation of the Category based Survived or didn't Survived"
      ]
    },
    {
      "cell_type": "code",
      "metadata": {
        "id": "u-DyIwjPgo0Q",
        "colab": {
          "base_uri": "https://localhost:8080/",
          "height": 746
        },
        "outputId": "b5397024-8fd4-4fe9-ae37-7eb60117b024"
      },
      "source": [
        "#Visualize the categorical columns to see survived passengers\r\n",
        "cols=['Pclass','Sex','Embarked','Parch']\r\n",
        "n_rows=2\r\n",
        "n_cols=2\r\n",
        "# The subplot grid to show the results\r\n",
        "fig,axs=plt.subplots(n_rows, n_cols, figsize= (n_cols*6,n_rows*4) )\r\n",
        "for r in range(0,n_rows):\r\n",
        "  for c in range(0,n_cols):\r\n",
        "    i=r*n_cols+c # index to go though the number of colums\r\n",
        "    ax=axs[r][c]# to show where to position the sub plot\r\n",
        "    sns.countplot(titanic_df[cols[i]], hue=titanic_df['Survived'],ax=ax)\r\n",
        "    ax.set_title(cols[i])\r\n",
        "    ax.legend(title='survived', loc='upper right')\r\n",
        "\r\n",
        "plt.tight_layout()\r\n",
        "\r\n"
      ],
      "execution_count": 23,
      "outputs": [
        {
          "output_type": "stream",
          "text": [
            "/usr/local/lib/python3.6/dist-packages/seaborn/_decorators.py:43: FutureWarning: Pass the following variable as a keyword arg: x. From version 0.12, the only valid positional argument will be `data`, and passing other arguments without an explicit keyword will result in an error or misinterpretation.\n",
            "  FutureWarning\n",
            "/usr/local/lib/python3.6/dist-packages/seaborn/_decorators.py:43: FutureWarning: Pass the following variable as a keyword arg: x. From version 0.12, the only valid positional argument will be `data`, and passing other arguments without an explicit keyword will result in an error or misinterpretation.\n",
            "  FutureWarning\n",
            "/usr/local/lib/python3.6/dist-packages/seaborn/_decorators.py:43: FutureWarning: Pass the following variable as a keyword arg: x. From version 0.12, the only valid positional argument will be `data`, and passing other arguments without an explicit keyword will result in an error or misinterpretation.\n",
            "  FutureWarning\n",
            "/usr/local/lib/python3.6/dist-packages/seaborn/_decorators.py:43: FutureWarning: Pass the following variable as a keyword arg: x. From version 0.12, the only valid positional argument will be `data`, and passing other arguments without an explicit keyword will result in an error or misinterpretation.\n",
            "  FutureWarning\n"
          ],
          "name": "stderr"
        },
        {
          "output_type": "display_data",
          "data": {
            "image/png": "[encoded data removed]",
            "text/plain": [
              "<Figure size 864x576 with 4 Axes>"
            ]
          },
          "metadata": {
            "tags": []
          }
        }
      ]
    },
    {
      "cell_type": "markdown",
      "metadata": {
        "id": "k5D-drLguqjx"
      },
      "source": [
        "### Observing the bar charts above the fact findings are:\r\n",
        "1. The First class passengers had better chance to survive than other classes. The mortality rate is shockingly very high in 3rd class passengers.\r\n",
        "2. As expected, the mortality rate proved to be higher in all cases about the male passegers than female passengers\r\n",
        "3. The passengers embarking point has also significnt role in surviaval chance. As we can see that passengers embarked from s did have least survival chance than other pasengers who embarked from c and d location\r\n",
        "4. The family size also has a significal role in surviving. The passengers with family had more survival rate than the passengers without family. "
      ]
    },
    {
      "cell_type": "markdown",
      "metadata": {
        "id": "6i6XQYZoTDSN"
      },
      "source": [
        "## Modifying the dataFrame with another column named \"Name_title\" showing Category of different people"
      ]
    },
    {
      "cell_type": "markdown",
      "metadata": {
        "id": "zh_YxCFBDkXx"
      },
      "source": [
        "In the name colum the title of the name of passengers are listed as Mr, Ms, Master etc. We may aggregate the passsengers count by thier name title and correlate the groups with  Survived column."
      ]
    },
    {
      "cell_type": "code",
      "metadata": {
        "id": "Rtd4JsdMn2_J",
        "colab": {
          "base_uri": "https://localhost:8080/",
          "height": 250
        },
        "outputId": "134da6ef-63d1-406e-89a6-60200a936016"
      },
      "source": [
        "# Creates categories based on the cabin; letter(n stands for null)\r\n",
        "# In this case we will traet null values like it's own category\r\n",
        "titanic_df['cabin_adv']= titanic_df.Cabin.apply(lambda x: str(x)[0])\r\n",
        "titanic_df.head()"
      ],
      "execution_count": 24,
      "outputs": [
        {
          "output_type": "execute_result",
          "data": {
            "text/html": [
              "<div>\n",
              "<style scoped>\n",
              "    .dataframe tbody tr th:only-of-type {\n",
              "        vertical-align: middle;\n",
              "    }\n",
              "\n",
              "    .dataframe tbody tr th {\n",
              "        vertical-align: top;\n",
              "    }\n",
              "\n",
              "    .dataframe thead th {\n",
              "        text-align: right;\n",
              "    }\n",
              "</style>\n",
              "<table border=\"1\" class=\"dataframe\">\n",
              "  <thead>\n",
              "    <tr style=\"text-align: right;\">\n",
              "      <th></th>\n",
              "      <th>PassengerId</th>\n",
              "      <th>Survived</th>\n",
              "      <th>Pclass</th>\n",
              "      <th>Name</th>\n",
              "      <th>Sex</th>\n",
              "      <th>Age</th>\n",
              "      <th>SibSp</th>\n",
              "      <th>Parch</th>\n",
              "      <th>Ticket</th>\n",
              "      <th>Fare</th>\n",
              "      <th>Cabin</th>\n",
              "      <th>Embarked</th>\n",
              "      <th>Young_age_ Gorup</th>\n",
              "      <th>Old_age_group</th>\n",
              "      <th>Male</th>\n",
              "      <th>Female</th>\n",
              "      <th>Name_title</th>\n",
              "      <th>cabin_adv</th>\n",
              "    </tr>\n",
              "  </thead>\n",
              "  <tbody>\n",
              "    <tr>\n",
              "      <th>0</th>\n",
              "      <td>1</td>\n",
              "      <td>0</td>\n",
              "      <td>3</td>\n",
              "      <td>Braund, Mr. Owen Harris</td>\n",
              "      <td>male</td>\n",
              "      <td>22.0</td>\n",
              "      <td>1</td>\n",
              "      <td>0</td>\n",
              "      <td>A/5 21171</td>\n",
              "      <td>7.2500</td>\n",
              "      <td>NaN</td>\n",
              "      <td>S</td>\n",
              "      <td>1</td>\n",
              "      <td>0</td>\n",
              "      <td>1</td>\n",
              "      <td>0</td>\n",
              "      <td>Mr</td>\n",
              "      <td>n</td>\n",
              "    </tr>\n",
              "    <tr>\n",
              "      <th>1</th>\n",
              "      <td>2</td>\n",
              "      <td>1</td>\n",
              "      <td>1</td>\n",
              "      <td>Cumings, Mrs. John Bradley (Florence Briggs Th...</td>\n",
              "      <td>female</td>\n",
              "      <td>38.0</td>\n",
              "      <td>1</td>\n",
              "      <td>0</td>\n",
              "      <td>PC 17599</td>\n",
              "      <td>71.2833</td>\n",
              "      <td>C85</td>\n",
              "      <td>C</td>\n",
              "      <td>1</td>\n",
              "      <td>0</td>\n",
              "      <td>0</td>\n",
              "      <td>1</td>\n",
              "      <td>Mrs</td>\n",
              "      <td>C</td>\n",
              "    </tr>\n",
              "    <tr>\n",
              "      <th>2</th>\n",
              "      <td>3</td>\n",
              "      <td>1</td>\n",
              "      <td>3</td>\n",
              "      <td>Heikkinen, Miss. Laina</td>\n",
              "      <td>female</td>\n",
              "      <td>26.0</td>\n",
              "      <td>0</td>\n",
              "      <td>0</td>\n",
              "      <td>STON/O2. 3101282</td>\n",
              "      <td>7.9250</td>\n",
              "      <td>NaN</td>\n",
              "      <td>S</td>\n",
              "      <td>1</td>\n",
              "      <td>0</td>\n",
              "      <td>0</td>\n",
              "      <td>1</td>\n",
              "      <td>Miss</td>\n",
              "      <td>n</td>\n",
              "    </tr>\n",
              "    <tr>\n",
              "      <th>3</th>\n",
              "      <td>4</td>\n",
              "      <td>1</td>\n",
              "      <td>1</td>\n",
              "      <td>Futrelle, Mrs. Jacques Heath (Lily May Peel)</td>\n",
              "      <td>female</td>\n",
              "      <td>35.0</td>\n",
              "      <td>1</td>\n",
              "      <td>0</td>\n",
              "      <td>113803</td>\n",
              "      <td>53.1000</td>\n",
              "      <td>C123</td>\n",
              "      <td>S</td>\n",
              "      <td>1</td>\n",
              "      <td>0</td>\n",
              "      <td>0</td>\n",
              "      <td>1</td>\n",
              "      <td>Mrs</td>\n",
              "      <td>C</td>\n",
              "    </tr>\n",
              "    <tr>\n",
              "      <th>4</th>\n",
              "      <td>5</td>\n",
              "      <td>0</td>\n",
              "      <td>3</td>\n",
              "      <td>Allen, Mr. William Henry</td>\n",
              "      <td>male</td>\n",
              "      <td>35.0</td>\n",
              "      <td>0</td>\n",
              "      <td>0</td>\n",
              "      <td>373450</td>\n",
              "      <td>8.0500</td>\n",
              "      <td>NaN</td>\n",
              "      <td>S</td>\n",
              "      <td>1</td>\n",
              "      <td>0</td>\n",
              "      <td>1</td>\n",
              "      <td>0</td>\n",
              "      <td>Mr</td>\n",
              "      <td>n</td>\n",
              "    </tr>\n",
              "  </tbody>\n",
              "</table>\n",
              "</div>"
            ],
            "text/plain": [
              "   PassengerId  Survived  Pclass  ... Female Name_title  cabin_adv\n",
              "0            1         0       3  ...      0         Mr          n\n",
              "1            2         1       1  ...      1        Mrs          C\n",
              "2            3         1       3  ...      1       Miss          n\n",
              "3            4         1       1  ...      1        Mrs          C\n",
              "4            5         0       3  ...      0         Mr          n\n",
              "\n",
              "[5 rows x 18 columns]"
            ]
          },
          "metadata": {
            "tags": []
          },
          "execution_count": 24
        }
      ]
    },
    {
      "cell_type": "code",
      "metadata": {
        "id": "5f7x11fj6O62",
        "colab": {
          "base_uri": "https://localhost:8080/",
          "height": 320
        },
        "outputId": "0976c30b-4c93-4d06-9fc3-9309a960826f"
      },
      "source": [
        "print(titanic_df.cabin_adv.value_counts())\r\n",
        "pd.pivot_table(titanic_df,index='Survived', columns='cabin_adv', values='Name', aggfunc='count')"
      ],
      "execution_count": 25,
      "outputs": [
        {
          "output_type": "stream",
          "text": [
            "n    687\n",
            "C     59\n",
            "B     47\n",
            "D     33\n",
            "E     32\n",
            "A     15\n",
            "F     13\n",
            "G      4\n",
            "T      1\n",
            "Name: cabin_adv, dtype: int64\n"
          ],
          "name": "stdout"
        },
        {
          "output_type": "execute_result",
          "data": {
            "text/html": [
              "<div>\n",
              "<style scoped>\n",
              "    .dataframe tbody tr th:only-of-type {\n",
              "        vertical-align: middle;\n",
              "    }\n",
              "\n",
              "    .dataframe tbody tr th {\n",
              "        vertical-align: top;\n",
              "    }\n",
              "\n",
              "    .dataframe thead th {\n",
              "        text-align: right;\n",
              "    }\n",
              "</style>\n",
              "<table border=\"1\" class=\"dataframe\">\n",
              "  <thead>\n",
              "    <tr style=\"text-align: right;\">\n",
              "      <th>cabin_adv</th>\n",
              "      <th>A</th>\n",
              "      <th>B</th>\n",
              "      <th>C</th>\n",
              "      <th>D</th>\n",
              "      <th>E</th>\n",
              "      <th>F</th>\n",
              "      <th>G</th>\n",
              "      <th>T</th>\n",
              "      <th>n</th>\n",
              "    </tr>\n",
              "    <tr>\n",
              "      <th>Survived</th>\n",
              "      <th></th>\n",
              "      <th></th>\n",
              "      <th></th>\n",
              "      <th></th>\n",
              "      <th></th>\n",
              "      <th></th>\n",
              "      <th></th>\n",
              "      <th></th>\n",
              "      <th></th>\n",
              "    </tr>\n",
              "  </thead>\n",
              "  <tbody>\n",
              "    <tr>\n",
              "      <th>0</th>\n",
              "      <td>8.0</td>\n",
              "      <td>12.0</td>\n",
              "      <td>24.0</td>\n",
              "      <td>8.0</td>\n",
              "      <td>8.0</td>\n",
              "      <td>5.0</td>\n",
              "      <td>2.0</td>\n",
              "      <td>1.0</td>\n",
              "      <td>481.0</td>\n",
              "    </tr>\n",
              "    <tr>\n",
              "      <th>1</th>\n",
              "      <td>7.0</td>\n",
              "      <td>35.0</td>\n",
              "      <td>35.0</td>\n",
              "      <td>25.0</td>\n",
              "      <td>24.0</td>\n",
              "      <td>8.0</td>\n",
              "      <td>2.0</td>\n",
              "      <td>NaN</td>\n",
              "      <td>206.0</td>\n",
              "    </tr>\n",
              "  </tbody>\n",
              "</table>\n",
              "</div>"
            ],
            "text/plain": [
              "cabin_adv    A     B     C     D     E    F    G    T      n\n",
              "Survived                                                    \n",
              "0          8.0  12.0  24.0   8.0   8.0  5.0  2.0  1.0  481.0\n",
              "1          7.0  35.0  35.0  25.0  24.0  8.0  2.0  NaN  206.0"
            ]
          },
          "metadata": {
            "tags": []
          },
          "execution_count": 25
        }
      ]
    },
    {
      "cell_type": "markdown",
      "metadata": {
        "id": "3CGaniIhV17a"
      },
      "source": [
        "## Survival percentage based on gender\r\n",
        " \r\n",
        "\r\n",
        "*   In First class Female survival is 97%, and male survival is 37%.\r\n",
        "*   In Second class Female survival is 92%, and male survival is 15%.\r\n",
        "*   In Third class Female survival is 50% and male survival is 13%.\r\n",
        "\r\n",
        "\r\n",
        "\r\n",
        "\r\n"
      ]
    },
    {
      "cell_type": "code",
      "metadata": {
        "id": "Ulhq-xADK2a8",
        "colab": {
          "base_uri": "https://localhost:8080/",
          "height": 258
        },
        "outputId": "17fc1943-00e4-4f57-cfac-4bad306cee0b"
      },
      "source": [
        "#  find out the survival means and sum according to the grouping and sub grouping of class and sex\r\n",
        "titanic_df.groupby(['Pclass','Sex'],as_index=False)['Survived'].agg(['mean','sum'])"
      ],
      "execution_count": 26,
      "outputs": [
        {
          "output_type": "execute_result",
          "data": {
            "text/html": [
              "<div>\n",
              "<style scoped>\n",
              "    .dataframe tbody tr th:only-of-type {\n",
              "        vertical-align: middle;\n",
              "    }\n",
              "\n",
              "    .dataframe tbody tr th {\n",
              "        vertical-align: top;\n",
              "    }\n",
              "\n",
              "    .dataframe thead th {\n",
              "        text-align: right;\n",
              "    }\n",
              "</style>\n",
              "<table border=\"1\" class=\"dataframe\">\n",
              "  <thead>\n",
              "    <tr style=\"text-align: right;\">\n",
              "      <th></th>\n",
              "      <th></th>\n",
              "      <th>mean</th>\n",
              "      <th>sum</th>\n",
              "    </tr>\n",
              "    <tr>\n",
              "      <th>Pclass</th>\n",
              "      <th>Sex</th>\n",
              "      <th></th>\n",
              "      <th></th>\n",
              "    </tr>\n",
              "  </thead>\n",
              "  <tbody>\n",
              "    <tr>\n",
              "      <th rowspan=\"2\" valign=\"top\">1</th>\n",
              "      <th>female</th>\n",
              "      <td>0.968085</td>\n",
              "      <td>91</td>\n",
              "    </tr>\n",
              "    <tr>\n",
              "      <th>male</th>\n",
              "      <td>0.368852</td>\n",
              "      <td>45</td>\n",
              "    </tr>\n",
              "    <tr>\n",
              "      <th rowspan=\"2\" valign=\"top\">2</th>\n",
              "      <th>female</th>\n",
              "      <td>0.921053</td>\n",
              "      <td>70</td>\n",
              "    </tr>\n",
              "    <tr>\n",
              "      <th>male</th>\n",
              "      <td>0.157407</td>\n",
              "      <td>17</td>\n",
              "    </tr>\n",
              "    <tr>\n",
              "      <th rowspan=\"2\" valign=\"top\">3</th>\n",
              "      <th>female</th>\n",
              "      <td>0.500000</td>\n",
              "      <td>72</td>\n",
              "    </tr>\n",
              "    <tr>\n",
              "      <th>male</th>\n",
              "      <td>0.135447</td>\n",
              "      <td>47</td>\n",
              "    </tr>\n",
              "  </tbody>\n",
              "</table>\n",
              "</div>"
            ],
            "text/plain": [
              "                   mean  sum\n",
              "Pclass Sex                  \n",
              "1      female  0.968085   91\n",
              "       male    0.368852   45\n",
              "2      female  0.921053   70\n",
              "       male    0.157407   17\n",
              "3      female  0.500000   72\n",
              "       male    0.135447   47"
            ]
          },
          "metadata": {
            "tags": []
          },
          "execution_count": 26
        }
      ]
    },
    {
      "cell_type": "markdown",
      "metadata": {
        "id": "V1o8v1vP8q5f"
      },
      "source": [
        "### Some interesting fact reaveals from the bellow statistical analysis :\r\n",
        "\r\n",
        "*   Female with parents and children had less suvival ratio than female without parents and children\r\n",
        "*  Conversely, male without parent and children had less survival ratio than male with parent and children\r\n",
        "\r\n"
      ]
    },
    {
      "cell_type": "code",
      "metadata": {
        "id": "r528sr2rODiP",
        "colab": {
          "base_uri": "https://localhost:8080/",
          "height": 468
        },
        "outputId": "0b5a4e8c-6d24-41c2-c2d2-f5e2b7c7b442"
      },
      "source": [
        "titanic_df.groupby(['Parch','Sex'],as_index=False)['Survived'].agg(['mean','sum'])"
      ],
      "execution_count": 27,
      "outputs": [
        {
          "output_type": "execute_result",
          "data": {
            "text/html": [
              "<div>\n",
              "<style scoped>\n",
              "    .dataframe tbody tr th:only-of-type {\n",
              "        vertical-align: middle;\n",
              "    }\n",
              "\n",
              "    .dataframe tbody tr th {\n",
              "        vertical-align: top;\n",
              "    }\n",
              "\n",
              "    .dataframe thead th {\n",
              "        text-align: right;\n",
              "    }\n",
              "</style>\n",
              "<table border=\"1\" class=\"dataframe\">\n",
              "  <thead>\n",
              "    <tr style=\"text-align: right;\">\n",
              "      <th></th>\n",
              "      <th></th>\n",
              "      <th>mean</th>\n",
              "      <th>sum</th>\n",
              "    </tr>\n",
              "    <tr>\n",
              "      <th>Parch</th>\n",
              "      <th>Sex</th>\n",
              "      <th></th>\n",
              "      <th></th>\n",
              "    </tr>\n",
              "  </thead>\n",
              "  <tbody>\n",
              "    <tr>\n",
              "      <th rowspan=\"2\" valign=\"top\">0</th>\n",
              "      <th>female</th>\n",
              "      <td>0.788660</td>\n",
              "      <td>153</td>\n",
              "    </tr>\n",
              "    <tr>\n",
              "      <th>male</th>\n",
              "      <td>0.165289</td>\n",
              "      <td>80</td>\n",
              "    </tr>\n",
              "    <tr>\n",
              "      <th rowspan=\"2\" valign=\"top\">1</th>\n",
              "      <th>female</th>\n",
              "      <td>0.766667</td>\n",
              "      <td>46</td>\n",
              "    </tr>\n",
              "    <tr>\n",
              "      <th>male</th>\n",
              "      <td>0.327586</td>\n",
              "      <td>19</td>\n",
              "    </tr>\n",
              "    <tr>\n",
              "      <th rowspan=\"2\" valign=\"top\">2</th>\n",
              "      <th>female</th>\n",
              "      <td>0.612245</td>\n",
              "      <td>30</td>\n",
              "    </tr>\n",
              "    <tr>\n",
              "      <th>male</th>\n",
              "      <td>0.322581</td>\n",
              "      <td>10</td>\n",
              "    </tr>\n",
              "    <tr>\n",
              "      <th rowspan=\"2\" valign=\"top\">3</th>\n",
              "      <th>female</th>\n",
              "      <td>0.750000</td>\n",
              "      <td>3</td>\n",
              "    </tr>\n",
              "    <tr>\n",
              "      <th>male</th>\n",
              "      <td>0.000000</td>\n",
              "      <td>0</td>\n",
              "    </tr>\n",
              "    <tr>\n",
              "      <th rowspan=\"2\" valign=\"top\">4</th>\n",
              "      <th>female</th>\n",
              "      <td>0.000000</td>\n",
              "      <td>0</td>\n",
              "    </tr>\n",
              "    <tr>\n",
              "      <th>male</th>\n",
              "      <td>0.000000</td>\n",
              "      <td>0</td>\n",
              "    </tr>\n",
              "    <tr>\n",
              "      <th rowspan=\"2\" valign=\"top\">5</th>\n",
              "      <th>female</th>\n",
              "      <td>0.250000</td>\n",
              "      <td>1</td>\n",
              "    </tr>\n",
              "    <tr>\n",
              "      <th>male</th>\n",
              "      <td>0.000000</td>\n",
              "      <td>0</td>\n",
              "    </tr>\n",
              "    <tr>\n",
              "      <th>6</th>\n",
              "      <th>female</th>\n",
              "      <td>0.000000</td>\n",
              "      <td>0</td>\n",
              "    </tr>\n",
              "  </tbody>\n",
              "</table>\n",
              "</div>"
            ],
            "text/plain": [
              "                  mean  sum\n",
              "Parch Sex                  \n",
              "0     female  0.788660  153\n",
              "      male    0.165289   80\n",
              "1     female  0.766667   46\n",
              "      male    0.327586   19\n",
              "2     female  0.612245   30\n",
              "      male    0.322581   10\n",
              "3     female  0.750000    3\n",
              "      male    0.000000    0\n",
              "4     female  0.000000    0\n",
              "      male    0.000000    0\n",
              "5     female  0.250000    1\n",
              "      male    0.000000    0\n",
              "6     female  0.000000    0"
            ]
          },
          "metadata": {
            "tags": []
          },
          "execution_count": 27
        }
      ]
    },
    {
      "cell_type": "markdown",
      "metadata": {
        "id": "PK_F6_6wAXXV"
      },
      "source": [
        "Similar result also observes as in the case of SibSp"
      ]
    },
    {
      "cell_type": "code",
      "metadata": {
        "id": "BZ9PUoog6HoX",
        "colab": {
          "base_uri": "https://localhost:8080/",
          "height": 498
        },
        "outputId": "8cdfede1-bfab-4ac4-c6d6-b7cf072b8447"
      },
      "source": [
        "titanic_df.groupby(['SibSp','Sex'])['Survived'].agg(['mean','sum'])"
      ],
      "execution_count": 28,
      "outputs": [
        {
          "output_type": "execute_result",
          "data": {
            "text/html": [
              "<div>\n",
              "<style scoped>\n",
              "    .dataframe tbody tr th:only-of-type {\n",
              "        vertical-align: middle;\n",
              "    }\n",
              "\n",
              "    .dataframe tbody tr th {\n",
              "        vertical-align: top;\n",
              "    }\n",
              "\n",
              "    .dataframe thead th {\n",
              "        text-align: right;\n",
              "    }\n",
              "</style>\n",
              "<table border=\"1\" class=\"dataframe\">\n",
              "  <thead>\n",
              "    <tr style=\"text-align: right;\">\n",
              "      <th></th>\n",
              "      <th></th>\n",
              "      <th>mean</th>\n",
              "      <th>sum</th>\n",
              "    </tr>\n",
              "    <tr>\n",
              "      <th>SibSp</th>\n",
              "      <th>Sex</th>\n",
              "      <th></th>\n",
              "      <th></th>\n",
              "    </tr>\n",
              "  </thead>\n",
              "  <tbody>\n",
              "    <tr>\n",
              "      <th rowspan=\"2\" valign=\"top\">0</th>\n",
              "      <th>female</th>\n",
              "      <td>0.787356</td>\n",
              "      <td>137</td>\n",
              "    </tr>\n",
              "    <tr>\n",
              "      <th>male</th>\n",
              "      <td>0.168203</td>\n",
              "      <td>73</td>\n",
              "    </tr>\n",
              "    <tr>\n",
              "      <th rowspan=\"2\" valign=\"top\">1</th>\n",
              "      <th>female</th>\n",
              "      <td>0.754717</td>\n",
              "      <td>80</td>\n",
              "    </tr>\n",
              "    <tr>\n",
              "      <th>male</th>\n",
              "      <td>0.310680</td>\n",
              "      <td>32</td>\n",
              "    </tr>\n",
              "    <tr>\n",
              "      <th rowspan=\"2\" valign=\"top\">2</th>\n",
              "      <th>female</th>\n",
              "      <td>0.769231</td>\n",
              "      <td>10</td>\n",
              "    </tr>\n",
              "    <tr>\n",
              "      <th>male</th>\n",
              "      <td>0.200000</td>\n",
              "      <td>3</td>\n",
              "    </tr>\n",
              "    <tr>\n",
              "      <th rowspan=\"2\" valign=\"top\">3</th>\n",
              "      <th>female</th>\n",
              "      <td>0.363636</td>\n",
              "      <td>4</td>\n",
              "    </tr>\n",
              "    <tr>\n",
              "      <th>male</th>\n",
              "      <td>0.000000</td>\n",
              "      <td>0</td>\n",
              "    </tr>\n",
              "    <tr>\n",
              "      <th rowspan=\"2\" valign=\"top\">4</th>\n",
              "      <th>female</th>\n",
              "      <td>0.333333</td>\n",
              "      <td>2</td>\n",
              "    </tr>\n",
              "    <tr>\n",
              "      <th>male</th>\n",
              "      <td>0.083333</td>\n",
              "      <td>1</td>\n",
              "    </tr>\n",
              "    <tr>\n",
              "      <th rowspan=\"2\" valign=\"top\">5</th>\n",
              "      <th>female</th>\n",
              "      <td>0.000000</td>\n",
              "      <td>0</td>\n",
              "    </tr>\n",
              "    <tr>\n",
              "      <th>male</th>\n",
              "      <td>0.000000</td>\n",
              "      <td>0</td>\n",
              "    </tr>\n",
              "    <tr>\n",
              "      <th rowspan=\"2\" valign=\"top\">8</th>\n",
              "      <th>female</th>\n",
              "      <td>0.000000</td>\n",
              "      <td>0</td>\n",
              "    </tr>\n",
              "    <tr>\n",
              "      <th>male</th>\n",
              "      <td>0.000000</td>\n",
              "      <td>0</td>\n",
              "    </tr>\n",
              "  </tbody>\n",
              "</table>\n",
              "</div>"
            ],
            "text/plain": [
              "                  mean  sum\n",
              "SibSp Sex                  \n",
              "0     female  0.787356  137\n",
              "      male    0.168203   73\n",
              "1     female  0.754717   80\n",
              "      male    0.310680   32\n",
              "2     female  0.769231   10\n",
              "      male    0.200000    3\n",
              "3     female  0.363636    4\n",
              "      male    0.000000    0\n",
              "4     female  0.333333    2\n",
              "      male    0.083333    1\n",
              "5     female  0.000000    0\n",
              "      male    0.000000    0\n",
              "8     female  0.000000    0\n",
              "      male    0.000000    0"
            ]
          },
          "metadata": {
            "tags": []
          },
          "execution_count": 28
        }
      ]
    },
    {
      "cell_type": "markdown",
      "metadata": {
        "id": "FSCE5WdZID4I"
      },
      "source": [
        "## Visualization"
      ]
    },
    {
      "cell_type": "code",
      "metadata": {
        "id": "BpZhxCiN9qqg"
      },
      "source": [
        " g=sns.factorplot(x = \"SibSp\", y = \"Survived\", data = titanic_df, kind = \"bar\", size = 6)\r\n",
        "g.set_ylabels(\"Survived Probability\")\r\n",
        "plt.show()"
      ],
      "execution_count": null,
      "outputs": []
    },
    {
      "cell_type": "markdown",
      "metadata": {
        "id": "oo4gQadJBgkg"
      },
      "source": [
        "# Performing Two sample T-test on dependent Variables (Survived) with Independent variables i.e. SibSp, Parch, Fare and Age\r\n",
        "Hypothesis:\r\n",
        "\r\n",
        "Null Hypothesis: There is no significant difference between the sample independent variables and the dependent variable\r\n",
        "\r\n",
        "Alternative Hypothesis : There is a significant difference between the sample independent variables and the dependent variable\r\n",
        "\r\n",
        "This is to check the dependency metricks of the veriables \r\n"
      ]
    },
    {
      "cell_type": "code",
      "metadata": {
        "id": "8LB0WGWL65ab"
      },
      "source": [
        "# import the ttest_ind\r\n",
        "from scipy.stats import ttest_ind\r\n",
        "Ttest_sample_df=titanic_df[['SibSp','Parch', 'Fare','Age']]\r\n"
      ],
      "execution_count": 47,
      "outputs": []
    },
    {
      "cell_type": "markdown",
      "metadata": {
        "id": "JcjY45mZug2Q"
      },
      "source": [
        "## Checking the distribution of data accress the variables"
      ]
    },
    {
      "cell_type": "code",
      "metadata": {
        "id": "264ClgGqDQnq",
        "colab": {
          "base_uri": "https://localhost:8080/",
          "height": 1000
        },
        "outputId": "7dd06380-9ed5-4a2f-d8d2-255e3fab0b1e"
      },
      "source": [
        "# befor performing two sample test on independent variables let us confirm the distribution\r\n",
        "for i in Ttest_sample_df:\r\n",
        "  plt.hist(Ttest_sample_df[i])\r\n",
        "  plt.title(i)\r\n",
        "  plt.show()"
      ],
      "execution_count": 31,
      "outputs": [
        {
          "output_type": "display_data",
          "data": {
            "image/png": "[encoded data removed]",
            "text/plain": [
              "<Figure size 432x288 with 1 Axes>"
            ]
          },
          "metadata": {
            "tags": []
          }
        },
        {
          "output_type": "display_data",
          "data": {
            "image/png": "[encoded data removed]",
            "text/plain": [
              "<Figure size 432x288 with 1 Axes>"
            ]
          },
          "metadata": {
            "tags": []
          }
        },
        {
          "output_type": "display_data",
          "data": {
            "image/png": "[encoded data removed]",
            "text/plain": [
              "<Figure size 432x288 with 1 Axes>"
            ]
          },
          "metadata": {
            "tags": []
          }
        },
        {
          "output_type": "display_data",
          "data": {
            "image/png": "[encoded data removed]",
            "text/plain": [
              "<Figure size 432x288 with 1 Axes>"
            ]
          },
          "metadata": {
            "tags": []
          }
        }
      ]
    },
    {
      "cell_type": "markdown",
      "metadata": {
        "id": "rASUP89YvDwE"
      },
      "source": [
        "Other than age column the data accross the columns are little skewed to the right indicating some outliers at the top. However, we would like to continue our test with this condition since it is some what distributed towards left."
      ]
    },
    {
      "cell_type": "markdown",
      "metadata": {
        "id": "tqp-5m1xwwcg"
      },
      "source": [
        "## Twe Sample indipendent T-test"
      ]
    },
    {
      "cell_type": "code",
      "metadata": {
        "id": "zn2LgDGSD-TS"
      },
      "source": [
        "# T-testing with SibSp\r\n",
        "ttest,p_value=ttest_ind(Ttest_sample_df['SibSp'],titanic_df['Survived'])"
      ],
      "execution_count": 41,
      "outputs": []
    },
    {
      "cell_type": "code",
      "metadata": {
        "id": "U00uhha8J9Qa",
        "colab": {
          "base_uri": "https://localhost:8080/"
        },
        "outputId": "ed6241c3-f4fb-422d-c7f3-c5191fea544f"
      },
      "source": [
        "print(ttest,p_value)"
      ],
      "execution_count": 42,
      "outputs": [
        {
          "output_type": "stream",
          "text": [
            "3.4464948319348006 0.0005811067141236977\n"
          ],
          "name": "stdout"
        }
      ]
    },
    {
      "cell_type": "markdown",
      "metadata": {
        "id": "nKiLC_H2LxUI"
      },
      "source": [
        "Rejecting the Null hypothesis as the T stat is greater than T critical and the p-value is less than 5%"
      ]
    },
    {
      "cell_type": "code",
      "metadata": {
        "id": "xlqSlPBwKF6x"
      },
      "source": [
        "# T-testing with Parch column\r\n",
        "ttest,p_value=ttest_ind(Ttest_sample_df['Parch'],titanic_df['Survived'])"
      ],
      "execution_count": 34,
      "outputs": []
    },
    {
      "cell_type": "code",
      "metadata": {
        "id": "xz4QHmc3MqcT",
        "colab": {
          "base_uri": "https://localhost:8080/"
        },
        "outputId": "02038b71-cc5e-4717-83ca-43c5fea86bc7"
      },
      "source": [
        "print(ttest,p_value)"
      ],
      "execution_count": 35,
      "outputs": [
        {
          "output_type": "stream",
          "text": [
            "-0.07116257604830639 0.9432763600642203\n"
          ],
          "name": "stdout"
        }
      ]
    },
    {
      "cell_type": "markdown",
      "metadata": {
        "id": "T_mxKZXnM0VC"
      },
      "source": [
        "Falied to reject the null hypothesis as T stat is smaller than T ctrtical (0.96) amd P value is greater than 5%"
      ]
    },
    {
      "cell_type": "code",
      "metadata": {
        "id": "Zc3GRdKaMwW5"
      },
      "source": [
        "# T-testing with Fare Column\r\n",
        "ttest,p_value=ttest_ind(Ttest_sample_df['Fare'],titanic_df['Survived'])"
      ],
      "execution_count": 36,
      "outputs": []
    },
    {
      "cell_type": "code",
      "metadata": {
        "id": "3tyhQmotPKcl",
        "colab": {
          "base_uri": "https://localhost:8080/"
        },
        "outputId": "c07af444-a982-4e30-dab8-04df09278e20"
      },
      "source": [
        "print(ttest,p_value)"
      ],
      "execution_count": 37,
      "outputs": [
        {
          "output_type": "stream",
          "text": [
            "19.112798902198033 3.2324176960886792e-74\n"
          ],
          "name": "stdout"
        }
      ]
    },
    {
      "cell_type": "markdown",
      "metadata": {
        "id": "3SA4xONQPS8L"
      },
      "source": [
        "Reject the null hypothesis as the T stat is greater than T critical and the p-value is less than 5%"
      ]
    },
    {
      "cell_type": "code",
      "metadata": {
        "id": "gldP9I3tQ3Sw"
      },
      "source": [
        "# Creating a dataFrame with only Age column after filling up the NaN values with 0\r\n",
        "Age_df=Ttest_sample_df['Age'].fillna(0)\r\n"
      ],
      "execution_count": null,
      "outputs": []
    },
    {
      "cell_type": "code",
      "metadata": {
        "id": "N-lzwc51PQUs"
      },
      "source": [
        "# T-testing with Age column\r\n",
        "ttest,p_value=ttest_ind(Age_df,titanic_df['Survived'])"
      ],
      "execution_count": 39,
      "outputs": []
    },
    {
      "cell_type": "code",
      "metadata": {
        "id": "RDtzfQyKP4Tb",
        "colab": {
          "base_uri": "https://localhost:8080/"
        },
        "outputId": "eca196a8-5c77-4205-b5b4-94578d7df279"
      },
      "source": [
        "print(ttest,p_value)"
      ],
      "execution_count": 40,
      "outputs": [
        {
          "output_type": "stream",
          "text": [
            "39.70632301998179 1.8389156797605152e-247\n"
          ],
          "name": "stdout"
        }
      ]
    },
    {
      "cell_type": "markdown",
      "metadata": {
        "id": "GZu06O0CgS6G"
      },
      "source": [
        "Reject the null hypothesis as the T stat is greater than T critical and the p-value is less than 5%"
      ]
    },
    {
      "cell_type": "markdown",
      "metadata": {
        "id": "pdxRi4shgdzv"
      },
      "source": [
        "The result of independend ttest reveals that there are significant diffence between the dependent and independent variables other than Parch column\r\n"
      ]
    },
    {
      "cell_type": "markdown",
      "metadata": {
        "id": "Sk-F2fj0yMgw"
      },
      "source": [
        "# Result of the Analysis\r\n"
      ]
    },
    {
      "cell_type": "markdown",
      "metadata": {
        "id": "Azt8EVR0_MPM"
      },
      "source": [
        "## Facts and figures revealed from the above findings are as follows:\r\n",
        "\r\n",
        "\r\n",
        "\r\n",
        "1.   The sample data represents 891 passengers out of 2224 passengers on board in Titanic.\r\n",
        "\r\n",
        "2.   Total 549 out of 891 passengers died according to the sample data. Actual death record is 1502. The acual death percentage is 68%, whereas in our calculation with sample data it is 62%. There is a variance of 6% between actual and sample data death, which is closer to the accuracy.\r\n",
        "\r\n",
        "3.   Let us see the survival percentages according to, gender, age, class/cabin and the category of people i.e. Mr, Miss, Mrs, master etc.\r\n",
        "\r\n",
        "4. Interestingly, as we deep dived into the analysis we could find out that passengers who embarked from different locations, like Cherburg, Queenstown and Southhapton, their suvival chances also differ according to the embarked location. It could be a coincidence or thier might be some root cause which needs more investigation.\r\n",
        "\r\n",
        "## Basing on the analysis let us see the survival pssibilities of different categories of People:\r\n",
        "\r\n",
        "1.  Survival percentages according to gender:\r\n",
        "\r\n",
        "      Male Suvived : 19%\r\n",
        "\r\n",
        "      Female Survived: 74%\r\n",
        "\r\n",
        "2.  Survival percentages according to Passenger class:\r\n",
        "                        \r\n",
        "\r\n",
        "\r\n",
        "                             1st class     2nd class   3rd class\r\n",
        "        Male Suvived :        36%           16%        14%\r\n",
        "\r\n",
        "       Female Survived:      96%           92%        50%\r\n"
      ]
    },
    {
      "cell_type": "markdown",
      "metadata": {
        "id": "hujUYoTFsdM6"
      },
      "source": [
        "3. Survival and non survival state in Cabin passengers:\r\n",
        "                               A    B    C    D   E   F   G\r\n",
        "             Survived          7    35   35   25  24  8   2 \r\n",
        "              Didn't Surv      8    12   24   8   8   5   2 \r\n",
        "          % wise survival:    47%  74%  59%  76% 73%  62% 50%\r\n",
        "\r\n",
        "     \r\n",
        "\r\n",
        "4. Survival percentage according to name title :\r\n",
        "\r\n",
        "     a. MR    :    16%    \r\n",
        "\r\n",
        "     b. Mrs   :79%\r\n",
        "     \r\n",
        "     c. Miss  :  70%      \r\n",
        "\r\n",
        "     d. Master: 58%\r\n",
        "\r\n",
        "5. Survival Percentage based on embarking location:\r\n",
        "\r\n",
        "        Embarking Location Name        Cherbourg     Queenstown     Southampton\r\n",
        "        Totla Paassengers               168            77             644\r\n",
        "        Survival %                      55%            39%            37%\r\n",
        "\r\n",
        "\r\n",
        "     \r\n",
        "\r\n",
        "    \r\n",
        "\r\n",
        "\r\n",
        "  \r\n"
      ]
    },
    {
      "cell_type": "markdown",
      "metadata": {
        "id": "G6IPQ2Be1Jg2"
      },
      "source": [
        "# Conclusion\r\n",
        "\r\n",
        "The tragic incident of Titanic sinking in the North Atlantic in 1912 still is a reminiscence in our memory as one the tragic ship wrecking incident. Even after more than 100 years people are doing research to find out what actually went wrong in that day which caused such a big disaster? We learn from the history, as such this incident has given us many lessons. Now a days Sea liner has technologically developed, and safety measurea are being given highest priority. Nevertheless, the mith of unsinkable shoun't make us complacent any more to take appropriate misures before an mishap takes place."
      ]
    }
  ]
}